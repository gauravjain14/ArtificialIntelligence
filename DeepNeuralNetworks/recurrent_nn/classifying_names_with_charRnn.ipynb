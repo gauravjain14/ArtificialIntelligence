{
 "cells": [
  {
   "cell_type": "code",
   "execution_count": 1,
   "metadata": {},
   "outputs": [
    {
     "data": {
      "text/plain": [
       "<torch._C.Generator at 0x7fc2b696f090>"
      ]
     },
     "execution_count": 1,
     "metadata": {},
     "output_type": "execute_result"
    }
   ],
   "source": [
    "from __future__ import unicode_literals, print_function, division\n",
    "from io import open\n",
    "import glob\n",
    "import os\n",
    "from collections import OrderedDict\n",
    "\n",
    "import torch\n",
    "import torch.nn as nn\n",
    "import torch.nn.functional as F\n",
    "import torch.optim as optim\n",
    "import matplotlib.pyplot as plt\n",
    "\n",
    "%matplotlib inline\n",
    "torch.manual_seed(1)"
   ]
  },
  {
   "cell_type": "code",
   "execution_count": 2,
   "metadata": {},
   "outputs": [
    {
     "name": "stdout",
     "output_type": "stream",
     "text": [
      "/media/gaurav/New Volume/Learning/ArtificialIntelligence/recurrent_nn\n",
      "['charRnn_data/names/Arabic.txt', 'charRnn_data/names/Chinese.txt', 'charRnn_data/names/Czech.txt', 'charRnn_data/names/Dutch.txt', 'charRnn_data/names/English.txt', 'charRnn_data/names/French.txt', 'charRnn_data/names/German.txt', 'charRnn_data/names/Greek.txt', 'charRnn_data/names/Irish.txt', 'charRnn_data/names/Italian.txt', 'charRnn_data/names/Japanese.txt', 'charRnn_data/names/Korean.txt', 'charRnn_data/names/Polish.txt', 'charRnn_data/names/Portuguese.txt', 'charRnn_data/names/Russian.txt', 'charRnn_data/names/Scottish.txt', 'charRnn_data/names/Spanish.txt', 'charRnn_data/names/Vietnamese.txt']\n"
     ]
    }
   ],
   "source": [
    "def findFiles(path): return glob.glob(path)\n",
    "print(os.getcwd())\n",
    "print(findFiles('charRnn_data/names/*.txt'))"
   ]
  },
  {
   "cell_type": "code",
   "execution_count": 3,
   "metadata": {},
   "outputs": [],
   "source": [
    "import unicodedata\n",
    "import string\n",
    "\n",
    "all_letters = string.ascii_letters + \" .,;'\"\n",
    "n_letters = len(all_letters)\n",
    "\n",
    "# Turn a Unicode string to plain ASCII, thanks to https://stackoverflow.com/a/518232/2809427\n",
    "def unicodeToAscii(s):\n",
    "    return ''.join(\n",
    "        c for c in unicodedata.normalize('NFD', s)\n",
    "        if unicodedata.category(c) != 'Mn'\n",
    "        and c in all_letters\n",
    "    )"
   ]
  },
  {
   "cell_type": "code",
   "execution_count": 8,
   "metadata": {},
   "outputs": [],
   "source": [
    "# Build the category_lines dictionary, a list of names per language\n",
    "category_lines = {}\n",
    "all_categories = []\n",
    "\n",
    "def readLines(file):\n",
    "    f = open(file,'r')\n",
    "    names = f.readlines()\n",
    "    f.close()\n",
    "    return list(map(lambda x: x.strip(),names))\n",
    "\n",
    "for file in findFiles('charRnn_data/names/*.txt'):\n",
    "    language = file.split('/')[-1].split('.')[0]\n",
    "    category_lines[language] = readLines(file)\n",
    "    all_categories.append(language)\n",
    "    \n",
    "n_categories = len(all_categories)"
   ]
  },
  {
   "cell_type": "code",
   "execution_count": 4,
   "metadata": {},
   "outputs": [],
   "source": [
    "# Turn a word(name) to a Tensor such that each letter is represented as a one-hot vector\n",
    "def one_hot_encoded_tensor(name):\n",
    "    letter_tensor = torch.zeros([len(name),1,n_letters])\n",
    "    indices = []\n",
    "    for i,c in enumerate(name):\n",
    "        idx = all_letters.find(c)\n",
    "        # is there a better way to create a one-hot encoded vector?\n",
    "        letter_tensor[i][0][idx] = 1\n",
    "    return letter_tensor"
   ]
  },
  {
   "cell_type": "code",
   "execution_count": 5,
   "metadata": {},
   "outputs": [],
   "source": [
    "class CharRNN(nn.Module):\n",
    "    def __init__(self,input_size,hidden_size,output_size):\n",
    "        super(CharRNN, self).__init__()\n",
    "        self.hidden_size = hidden_size\n",
    "        self.i2h = nn.Linear(input_size+hidden_size,hidden_size)\n",
    "        self.i2o = nn.Linear(input_size+hidden_size,output_size)\n",
    "        self.softmax = nn.LogSoftmax(dim=1)\n",
    "        \n",
    "    def forward(self,inp,hidden):\n",
    "        combined = torch.cat((inp,hidden),1)\n",
    "        hidden_out = self.i2h(combined)\n",
    "        output = self.i2o(combined)\n",
    "        output = self.softmax(output)\n",
    "        return output,hidden_out\n",
    "        \n",
    "    def initHidden(self):\n",
    "        return torch.zeros(1, self.hidden_size)"
   ]
  },
  {
   "cell_type": "code",
   "execution_count": 9,
   "metadata": {},
   "outputs": [],
   "source": [
    "# create the training set as (Name,Language) and shuffle\n",
    "# This approach will not work if there are duplicate names across different languages\n",
    "from random import shuffle\n",
    "def prepareTrainingData(categories):\n",
    "    inv_categories = [(n,lang) for lang,names in categories.items() for n in names]\n",
    "    shuffle(inv_categories)\n",
    "    return inv_categories\n",
    "\n",
    "training_data = prepareTrainingData(category_lines)"
   ]
  },
  {
   "cell_type": "code",
   "execution_count": 10,
   "metadata": {},
   "outputs": [
    {
     "data": {
      "image/png": "[encoded data removed]",
      "text/plain": [
       "<Figure size 432x288 with 1 Axes>"
      ]
     },
     "metadata": {
      "needs_background": "light"
     },
     "output_type": "display_data"
    }
   ],
   "source": [
    "# Do the training\n",
    "calc_avg_interval = 1000\n",
    "categories_idx = {lang:i for i,lang in enumerate(all_categories)}\n",
    "lossFunc = nn.NLLLoss()\n",
    "n_hidden = 128\n",
    "rnn = CharRNN(n_letters, n_hidden, n_categories)\n",
    "optimizer = optim.SGD(rnn.parameters(),lr=0.001,momentum=0.9)\n",
    "epochs, loop_count = 5, 0\n",
    "losses, total_loss = [], 0\n",
    "train_predictions = []\n",
    "for _ in range(epochs):\n",
    "    for sample in training_data:\n",
    "        loop_count += 1\n",
    "        hidden_inp = rnn.initHidden()\n",
    "\n",
    "        optimizer.zero_grad()\n",
    "        sample_encoded = one_hot_encoded_tensor(sample[0])\n",
    "        for c in sample_encoded:\n",
    "            output,hidden_inp = rnn(c,hidden_inp)\n",
    "\n",
    "        max_i = torch.argmax(output)\n",
    "        train_predictions.append([sample[0],sample[1],all_categories[max_i.item()]])\n",
    "        loss = lossFunc(output,torch.tensor([categories_idx[sample[1]]]))\n",
    "        loss.backward()\n",
    "        optimizer.step()\n",
    "        \n",
    "        if loop_count%calc_avg_interval == 0:\n",
    "            losses.append(total_loss/calc_avg_interval)\n",
    "            total_loss = 0\n",
    "        else:\n",
    "            total_loss += loss\n",
    "plt.plot(losses)\n",
    "plt.show()"
   ]
  },
  {
   "cell_type": "code",
   "execution_count": 105,
   "metadata": {},
   "outputs": [
    {
     "name": "stdout",
     "output_type": "stream",
     "text": [
      "[['Nurkaev', 'Russian', 'Russian'], ['Belik', 'Russian', 'Russian'], ['Finagin', 'Russian', 'Russian'], ['Lodge', 'English', 'English'], ['Woods', 'English', 'English'], ['Piontek', 'Polish', 'Czech'], ['Corti', 'Italian', 'Italian'], ['Kachemaev', 'Russian', 'Russian'], ['Kachurin', 'Russian', 'Russian'], ['Mahanov', 'Russian', 'Russian'], ['Dubrowsky', 'Russian', 'Russian'], ['Kahaya', 'Japanese', 'Japanese'], ['Groizman', 'Russian', 'Russian'], ['Jarrett', 'English', 'English'], ['Rosa', 'Spanish', 'Italian'], ['Tighearnach', 'Irish', 'Russian'], ['Imoo', 'Japanese', 'Japanese'], ['Pats', 'Russian', 'English'], ['Lock', 'English', 'English'], ['Filipek', 'Polish', 'Czech'], ['Metz', 'German', 'German'], ['Qureshi', 'Arabic', 'Arabic'], ['Anosov', 'Russian', 'Russian'], ['Agapeev', 'Russian', 'Russian'], ['Mingo', 'Spanish', 'Russian'], ['Zinkovsky', 'Russian', 'Russian'], ['Pochupailov', 'Russian', 'Russian'], ['Yamabe', 'Japanese', 'English'], ['Durnovtsev', 'Russian', 'Russian'], ['Matthews', 'English', 'Russian'], ['Sayegh', 'Arabic', 'Arabic'], ['Adashevski', 'Russian', 'Russian'], ['Marek', 'Polish', 'Czech'], ['Abl', 'Czech', 'English'], ['Asghar', 'Arabic', 'Arabic'], ['Minh', 'Russian', 'English'], ['Vilchitsky', 'Russian', 'Russian'], ['Rumpade', 'Dutch', 'English'], ['Nahas', 'Arabic', 'Arabic'], ['Pavlenkov', 'Russian', 'Russian'], ['Naifeh', 'Arabic', 'Arabic'], ['Chuhonkin', 'Russian', 'Russian'], ['Shalimov', 'Russian', 'Russian'], ['Auslender', 'Russian', 'Russian'], ['Avdakoff', 'Russian', 'Russian'], ['Attia', 'Arabic', 'Arabic'], ['Young', 'English', 'English'], ['Kendell', 'English', 'English'], ['Ackroyd', 'English', 'English'], ['Talitsky', 'Russian', 'Russian'], ['Mochalygin', 'Russian', 'Russian'], ['Arnett', 'English', 'English'], ['Zhorov', 'Russian', 'Russian'], ['Vesnovsky', 'Russian', 'Russian'], ['Busto', 'Spanish', 'Russian'], ['Ganim', 'Arabic', 'Arabic'], ['Lamon', 'Italian', 'English'], ['Diamond', 'English', 'English'], ['Ricci', 'Italian', 'Italian'], ['Kaiser', 'German', 'Arabic'], ['Abdrazakov', 'Russian', 'Russian'], ['Gabrielli', 'Italian', 'Italian'], ['Giannakopoulos', 'Greek', 'English'], ['Babenkov', 'Russian', 'Russian'], ['Kay', 'English', 'English'], ['Daniells', 'English', 'English'], ['Derchansky', 'Russian', 'Russian'], ['Granin', 'Russian', 'Russian'], ['Azzarà', 'Italian', 'Spanish'], ['Johnstone', 'Scottish', 'English'], ['Dankin', 'Russian', 'Russian'], ['Bellamy', 'French', 'English'], ['Hara', 'Japanese', 'Arabic'], ['Mahagonov', 'Russian', 'Russian'], ['Jankis', 'Russian', 'Russian'], ['Pell', 'English', 'English'], ['Vavilov', 'Russian', 'Russian'], ['Granger', 'English', 'English'], ['Burnett', 'English', 'English'], ['Bereznev', 'Russian', 'Russian'], ['Egorin', 'Russian', 'Russian'], ['Srpcikova', 'Czech', 'Russian'], ['Ferreiro', 'Portuguese', 'Italian'], ['Cvacek', 'Czech', 'Czech'], ['Deulin', 'Russian', 'Russian'], ['Hudainatov', 'Russian', 'Russian'], ['Adamo', 'Italian', 'Italian'], ['Marholenko', 'Russian', 'Russian'], ['Bezuglov', 'Russian', 'Russian'], ['Kachalovsky', 'Russian', 'Russian'], ['Fakhoury', 'Arabic', 'Arabic'], ['Saitoh', 'Japanese', 'Arabic'], ['Jaganov', 'Russian', 'Russian'], ['Koole', 'Dutch', 'English'], ['Chertkov', 'Russian', 'Russian'], ['Zelinka', 'Czech', 'Russian'], ['Vygodin', 'Russian', 'Russian'], ['Pavlyukovsky', 'Russian', 'Russian'], ['Naifeh', 'Arabic', 'Arabic'], ['Samaha', 'Arabic', 'Japanese']]\n"
     ]
    }
   ],
   "source": [
    "print(train_predictions[-100:])"
   ]
  },
  {
   "cell_type": "code",
   "execution_count": null,
   "metadata": {},
   "outputs": [],
   "source": []
  },
  {
   "cell_type": "code",
   "execution_count": null,
   "metadata": {},
   "outputs": [],
   "source": []
  }
 ],
 "metadata": {
  "kernelspec": {
   "display_name": "Python 3",
   "language": "python",
   "name": "python3"
  },
  "language_info": {
   "codemirror_mode": {
    "name": "ipython",
    "version": 3
   },
   "file_extension": ".py",
   "mimetype": "text/x-python",
   "name": "python",
   "nbconvert_exporter": "python",
   "pygments_lexer": "ipython3",
   "version": "3.7.3"
  }
 },
 "nbformat": 4,
 "nbformat_minor": 2
}
