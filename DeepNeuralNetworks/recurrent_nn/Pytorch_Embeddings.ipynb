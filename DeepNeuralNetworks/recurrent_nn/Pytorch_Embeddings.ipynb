{
 "cells": [
  {
   "cell_type": "code",
   "execution_count": 2,
   "metadata": {},
   "outputs": [
    {
     "data": {
      "text/plain": [
       "<torch._C.Generator at 0x7fcbf837a070>"
      ]
     },
     "execution_count": 2,
     "metadata": {},
     "output_type": "execute_result"
    }
   ],
   "source": [
    "import torch\n",
    "import torch.nn as nn\n",
    "import torch.nn.functional as F\n",
    "import torch.optim as optim\n",
    "import matplotlib.pyplot as plt\n",
    "\n",
    "%matplotlib inline\n",
    "torch.manual_seed(1)"
   ]
  },
  {
   "cell_type": "code",
   "execution_count": 4,
   "metadata": {},
   "outputs": [],
   "source": [
    "import gym\n",
    "env = gym.make('Pong-v0')"
   ]
  },
  {
   "cell_type": "code",
   "execution_count": 22,
   "metadata": {},
   "outputs": [
    {
     "data": {
      "text/plain": [
       "numpy.ndarray"
      ]
     },
     "execution_count": 22,
     "metadata": {},
     "output_type": "execute_result"
    }
   ],
   "source": [
    "type(env.observation_space.sample())"
   ]
  },
  {
   "cell_type": "code",
   "execution_count": 2,
   "metadata": {},
   "outputs": [
    {
     "name": "stdout",
     "output_type": "stream",
     "text": [
      "tensor([[ 0.6614,  0.2669,  0.0617,  0.6213, -0.4519]],\n",
      "       grad_fn=<EmbeddingBackward>)\n",
      "tensor([-0.1661, -1.5228,  0.3817, -1.0276, -0.5631],\n",
      "       grad_fn=<EmbeddingBackward>)\n",
      "<class 'torch.Tensor'>\n",
      "tensor([-0.8923, -0.0583], grad_fn=<EmbeddingBackward>)\n",
      "tensor([-0.1955, -0.9656], grad_fn=<EmbeddingBackward>)\n"
     ]
    }
   ],
   "source": [
    "word_to_ix = {\"hello\": 0, \"world\": 1}\n",
    "embeds = nn.Embedding(2, 5)  # 2 words in vocab, 5 dimensional embeddings\n",
    "lookup_tensor = torch.tensor([word_to_ix[\"hello\"]], dtype=torch.long)\n",
    "hello_embed = embeds(lookup_tensor)\n",
    "world_embed = embeds(torch.tensor(1))\n",
    "print(hello_embed)\n",
    "print(world_embed)\n",
    "\n",
    "embeds_2 = nn.Embedding(2,2)\n",
    "print(type(embeds_2(torch.tensor(0))))\n",
    "print(embeds_2(torch.tensor(0)))\n",
    "print(embeds_2(torch.tensor(1)))"
   ]
  },
  {
   "cell_type": "code",
   "execution_count": 3,
   "metadata": {},
   "outputs": [],
   "source": [
    "EMBEDDING_DIM = 10\n",
    "# We will use Shakespeare Sonnet 2\n",
    "test_sentence = \"\"\"When forty winters shall besiege thy brow,\n",
    "And dig deep trenches in thy beauty's field,\n",
    "Thy youth's proud livery so gazed on now,\n",
    "Will be a totter'd weed of small worth held:\n",
    "Then being asked, where all thy beauty lies,\n",
    "Where all the treasure of thy lusty days;\n",
    "To say, within thine own deep sunken eyes,\n",
    "Were an all-eating shame, and thriftless praise.\n",
    "How much more praise deserv'd thy beauty's use,\n",
    "If thou couldst answer 'This fair child of mine\n",
    "Shall sum my count, and make my old excuse,'\n",
    "Proving his beauty by succession thine!\n",
    "This were to be new made when thou art old,\n",
    "And see thy blood warm when thou feel'st it cold.\"\"\".split()"
   ]
  },
  {
   "cell_type": "code",
   "execution_count": 4,
   "metadata": {},
   "outputs": [],
   "source": [
    "test_tuple = [([test_sentence[i],test_sentence[i+1]],test_sentence[i+2]) for i,_ in enumerate(test_sentence[:-2])]"
   ]
  },
  {
   "cell_type": "code",
   "execution_count": 5,
   "metadata": {},
   "outputs": [],
   "source": [
    "vocab = set(test_sentence)\n",
    "sentence_embeddings = nn.Embedding(len(vocab),EMBEDDING_DIM)\n",
    "sentence_idx = {k:i for i,k in enumerate(vocab)}"
   ]
  },
  {
   "cell_type": "code",
   "execution_count": 76,
   "metadata": {},
   "outputs": [],
   "source": [
    "class NGramLanguageModeler(nn.Module):\n",
    "    def __init__(self,vocab_size,embedding_dim,context_size):\n",
    "        super(NGramLanguageModeler, self).__init__()\n",
    "        self.embeddings = nn.Embedding(vocab_size,embedding_dim)\n",
    "        self.linear1 = nn.Linear(context_size*embedding_dim,128)\n",
    "        self.linear2 = nn.Linear(128,vocab_size)\n",
    "        \n",
    "    def forward(self,words_idx):\n",
    "        word_embeddings = self.embeddings(words_idx).view((1, -1)) #[self.embeddings(torch.tensor(i)) for i in words_idx]\n",
    "        x = F.relu(self.linear1(word_embeddings))\n",
    "        x = F.log_softmax(self.linear2(x),dim=1)\n",
    "        return x"
   ]
  },
  {
   "cell_type": "code",
   "execution_count": 83,
   "metadata": {},
   "outputs": [
    {
     "data": {
      "image/png": "[encoded data removed]",
      "text/plain": [
       "<Figure size 432x288 with 1 Axes>"
      ]
     },
     "metadata": {
      "needs_background": "light"
     },
     "output_type": "display_data"
    }
   ],
   "source": [
    "# training ngram\n",
    "## Using dtype = torch.long is important here!\n",
    "losses = []\n",
    "lossFunc = nn.NLLLoss()\n",
    "vocab_size = len(vocab)\n",
    "CONTEXT_SIZE = 2\n",
    "nnGram = NGramLanguageModeler(vocab_size,EMBEDDING_DIM,CONTEXT_SIZE)\n",
    "optimizer = optim.SGD(nnGram.parameters(),lr=0.001,momentum=0.9)\n",
    "epochs = 30\n",
    "for _ in range(epochs):\n",
    "    total_loss = 0\n",
    "    for data in test_tuple:\n",
    "        words_idx = torch.tensor([sentence_idx[elem] for elem in data[0]],dtype=torch.long)\n",
    "        \n",
    "        optimizer.zero_grad()\n",
    "        next_word_probs = nnGram(words_idx)\n",
    "        loss = lossFunc(next_word_probs,torch.tensor([sentence_idx[data[1]]],dtype=torch.long))\n",
    "        loss.backward()\n",
    "        optimizer.step()\n",
    "        \n",
    "        total_loss += loss.item()\n",
    "    losses.append(total_loss)\n",
    "plt.plot(losses)\n",
    "plt.show()"
   ]
  },
  {
   "cell_type": "code",
   "execution_count": null,
   "metadata": {},
   "outputs": [],
   "source": []
  }
 ],
 "metadata": {
  "kernelspec": {
   "display_name": "Python 3",
   "language": "python",
   "name": "python3"
  },
  "language_info": {
   "codemirror_mode": {
    "name": "ipython",
    "version": 3
   },
   "file_extension": ".py",
   "mimetype": "text/x-python",
   "name": "python",
   "nbconvert_exporter": "python",
   "pygments_lexer": "ipython3",
   "version": "3.7.3"
  }
 },
 "nbformat": 4,
 "nbformat_minor": 2
}
