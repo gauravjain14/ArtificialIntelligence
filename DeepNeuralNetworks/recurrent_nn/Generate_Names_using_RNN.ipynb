{
 "cells": [
  {
   "cell_type": "code",
   "execution_count": 34,
   "metadata": {},
   "outputs": [],
   "source": [
    "from __future__ import unicode_literals, print_function, division\n",
    "from io import open\n",
    "import glob\n",
    "import os\n",
    "import unicodedata\n",
    "import string\n",
    "\n",
    "import torch\n",
    "import torch.nn as nn\n",
    "import torch.nn.functional as F\n",
    "import torch.optim as optim\n",
    "import matplotlib.pyplot as plt\n",
    "\n",
    "%matplotlib inline\n",
    "torch.manual_seed(1)\n",
    "\n",
    "all_letters = string.ascii_letters + \" .,;'-\"\n",
    "n_letters = len(all_letters) + 1 # Plus EOS marker"
   ]
  },
  {
   "cell_type": "code",
   "execution_count": 6,
   "metadata": {},
   "outputs": [],
   "source": [
    "def findFiles(path): return glob.glob(path)"
   ]
  },
  {
   "cell_type": "code",
   "execution_count": 18,
   "metadata": {},
   "outputs": [],
   "source": [
    "filePath = os.path.join(os.getcwd(),'GenCharRnn_data/names/*.txt')\n",
    "fileWithNames = findFiles(filePath)"
   ]
  },
  {
   "cell_type": "code",
   "execution_count": 31,
   "metadata": {},
   "outputs": [],
   "source": [
    "## Helper - boilerplate code\n",
    "\n",
    "# Turn a Unicode string to plain ASCII, thanks to https://stackoverflow.com/a/518232/2809427\n",
    "def unicodeToAscii(s):\n",
    "    return ''.join(\n",
    "        c for c in unicodedata.normalize('NFD', s)\n",
    "        if unicodedata.category(c) != 'Mn'\n",
    "        and c in all_letters\n",
    "    )\n",
    "\n",
    "category_lines = {}\n",
    "all_categories = []\n",
    "for f in fileWithNames:\n",
    "    category = os.path.splitext(f)[0].split('/')[-1]\n",
    "    all_categories.append(category)\n",
    "    with open(f,'r') as names:\n",
    "        category_lines[category] = [n.strip() for n in names.readlines()]\n",
    "        \n",
    "n_categories = len(all_categories)"
   ]
  },
  {
   "cell_type": "code",
   "execution_count": 36,
   "metadata": {},
   "outputs": [],
   "source": [
    "# category_dim = n_categories\n",
    "class GenRNN(nn.Module):\n",
    "    def __init__(self,inp_dim,out_dim,hidden_dim,category_dim):\n",
    "        super(GenRNN, self).__init__()\n",
    "        self.i2o = nn.Linear(inp_dim+hidden_dim+category_dim,out_dim)\n",
    "        self.i2h = nn.Linear(inp_dim+hidden_dim+category_dim,hidden_dim)\n",
    "        self.o2o = nn.Linear(out_dim,out_dim)\n",
    "        self.dropout = nn.Dropout(p=0.1) # isn't this very low?\n",
    "        self.softmax = nn.LogSoftmax(dim=1)\n",
    "        \n",
    "    def forward(self,inp,hidden_prev,category):\n",
    "        combined = torch.cat((inp,hidden,category))\n",
    "        out1 = self.i2o(combined)\n",
    "        hidden = self.i2h(combined)\n",
    "        out_combined = torch.cat((output,hidden))\n",
    "        out2 = self.softmax(self.dropout(self.o2o(out_combined)))\n",
    "        \n",
    "        return out2, hidden"
   ]
  },
  {
   "cell_type": "code",
   "execution_count": null,
   "metadata": {},
   "outputs": [],
   "source": []
  }
 ],
 "metadata": {
  "kernelspec": {
   "display_name": "Python 3",
   "language": "python",
   "name": "python3"
  },
  "language_info": {
   "codemirror_mode": {
    "name": "ipython",
    "version": 3
   },
   "file_extension": ".py",
   "mimetype": "text/x-python",
   "name": "python",
   "nbconvert_exporter": "python",
   "pygments_lexer": "ipython3",
   "version": "3.7.3"
  }
 },
 "nbformat": 4,
 "nbformat_minor": 2
}
