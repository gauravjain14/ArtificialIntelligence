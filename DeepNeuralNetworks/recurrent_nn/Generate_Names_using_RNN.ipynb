{
 "cells": [
  {
   "cell_type": "code",
   "execution_count": 1,
   "metadata": {},
   "outputs": [],
   "source": [
    "from __future__ import unicode_literals, print_function, division\n",
    "from io import open\n",
    "import glob\n",
    "import os\n",
    "import unicodedata\n",
    "import string\n",
    "\n",
    "import torch\n",
    "import torch.nn as nn\n",
    "import torch.nn.functional as F\n",
    "import torch.optim as optim\n",
    "import matplotlib.pyplot as plt\n",
    "\n",
    "%matplotlib inline\n",
    "torch.manual_seed(1)\n",
    "\n",
    "all_letters = string.ascii_letters + \" .,;'-\"\n",
    "n_letters = len(all_letters) + 1 # Plus EOS marker"
   ]
  },
  {
   "cell_type": "code",
   "execution_count": 2,
   "metadata": {},
   "outputs": [],
   "source": [
    "def findFiles(path): return glob.glob(path)"
   ]
  },
  {
   "cell_type": "code",
   "execution_count": 3,
   "metadata": {},
   "outputs": [],
   "source": [
    "base_path = '/media/gaurav/New Volume/Learning/ArtificialIntelligence/data/rnn/pytorch_charRnn/'\n",
    "filePath = os.path.join(os.getcwd(),base_path+'GenCharRnn_data/names/*.txt')\n",
    "fileWithNames = findFiles(filePath)"
   ]
  },
  {
   "cell_type": "code",
   "execution_count": 4,
   "metadata": {},
   "outputs": [
    {
     "name": "stdout",
     "output_type": "stream",
     "text": [
      "/media/gaurav/New Volume/Learning/ArtificialIntelligence/data/rnn/pytorch_charRnn/data/names/*.txt\n",
      "# categories: 18 ['Arabic', 'Chinese', 'Czech', 'Dutch', 'English', 'French', 'German', 'Greek', 'Irish', 'Italian', 'Japanese', 'Korean', 'Polish', 'Portuguese', 'Russian', 'Scottish', 'Spanish', 'Vietnamese']\n",
      "O'Neal\n"
     ]
    }
   ],
   "source": [
    "# Turn a Unicode string to plain ASCII, thanks to https://stackoverflow.com/a/518232/2809427\n",
    "def unicodeToAscii(s):\n",
    "    return ''.join(\n",
    "        c for c in unicodedata.normalize('NFD', s)\n",
    "        if unicodedata.category(c) != 'Mn'\n",
    "        and c in all_letters\n",
    "    )\n",
    "\n",
    "# Read a file and split into lines\n",
    "def readLines(filename):\n",
    "    lines = open(filename, encoding='utf-8').read().strip().split('\\n')\n",
    "    return [unicodeToAscii(line) for line in lines]\n",
    "\n",
    "# Build the category_lines dictionary, a list of lines per category\n",
    "base_path = '/media/gaurav/New Volume/Learning/ArtificialIntelligence/data/rnn/pytorch_charRnn/'\n",
    "print(base_path+'data/names/*.txt')\n",
    "category_lines = {}\n",
    "all_categories = []\n",
    "for filename in findFiles(base_path+'GenCharRnn_data/names/*.txt'):\n",
    "    category = os.path.splitext(os.path.basename(filename))[0]\n",
    "    all_categories.append(category)\n",
    "    lines = readLines(filename)\n",
    "    category_lines[category] = lines\n",
    "\n",
    "n_categories = len(all_categories)\n",
    "\n",
    "if n_categories == 0:\n",
    "    raise RuntimeError('Data not found. Make sure that you downloaded data '\n",
    "        'from https://download.pytorch.org/tutorial/data.zip and extract it to '\n",
    "        'the current directory.')\n",
    "\n",
    "print('# categories:', n_categories, all_categories)\n",
    "print(unicodeToAscii(\"O'Néàl\"))"
   ]
  },
  {
   "cell_type": "code",
   "execution_count": 5,
   "metadata": {},
   "outputs": [],
   "source": [
    "# category_dim = n_categories\n",
    "class GenRNN(nn.Module):\n",
    "    def __init__(self,inp_dim,out_dim,hidden_dim,category_dim):\n",
    "        super(GenRNN, self).__init__()\n",
    "        self.hidden_size = hidden_dim\n",
    "        self.i2o = nn.Linear(category_dim+inp_dim+hidden_dim,out_dim)\n",
    "        self.i2h = nn.Linear(category_dim+inp_dim+hidden_dim,hidden_dim)\n",
    "        self.o2o = nn.Linear(hidden_dim+out_dim,out_dim)\n",
    "        self.dropout = nn.Dropout(p=0.1) # isn't this very low?\n",
    "        self.softmax = nn.LogSoftmax(dim=1)\n",
    "        \n",
    "    def forward(self,category,inp,hidden_prev):\n",
    "        combined = torch.cat((category,inp,hidden_prev),dim=1)\n",
    "        out1 = self.i2o(combined)\n",
    "        hidden = self.i2h(combined)\n",
    "        out_combined = torch.cat((hidden,out1),dim=1)\n",
    "        out2 = self.softmax(self.dropout(self.o2o(out_combined)))\n",
    "        \n",
    "        return out2, hidden\n",
    "    \n",
    "    def initHidden(self):\n",
    "        return torch.zeros(1, self.hidden_size)    "
   ]
  },
  {
   "cell_type": "code",
   "execution_count": 6,
   "metadata": {},
   "outputs": [],
   "source": [
    "# One-hot vector for category\n",
    "def categoryTensor(category):\n",
    "    li = all_categories.index(category)\n",
    "    tensor = torch.zeros(1, n_categories)\n",
    "    tensor[0][li] = 1\n",
    "    return tensor\n",
    "\n",
    "# One-hot matrix of first to last letters (not including EOS) for input\n",
    "def inputTensor(line):\n",
    "    tensor = torch.zeros(len(line), 1, n_letters)\n",
    "    for li in range(len(line)):\n",
    "        letter = line[li]\n",
    "        tensor[li][0][all_letters.find(letter)] = 1\n",
    "    return tensor\n",
    "\n",
    "# LongTensor of second letter to end (EOS) for target\n",
    "def targetTensor(line):\n",
    "    letter_indexes = [all_letters.find(line[li]) for li in range(1, len(line))]\n",
    "    letter_indexes.append(n_letters - 1) # EOS\n",
    "    return torch.LongTensor(letter_indexes)"
   ]
  },
  {
   "cell_type": "code",
   "execution_count": 7,
   "metadata": {},
   "outputs": [],
   "source": [
    "import random\n",
    "# Random item from a list\n",
    "def randomChoice(l):\n",
    "    return l[random.randint(0, len(l) - 1)]\n",
    "\n",
    "# Get a random category and random line from that category\n",
    "def randomTrainingPair():\n",
    "    category = randomChoice(all_categories)\n",
    "    line = randomChoice(category_lines[category])\n",
    "    return category, line\n",
    "\n",
    "# Make category, input, and target tensors from a random category, line pair\n",
    "def randomTrainingExample():\n",
    "    category, line = randomTrainingPair()\n",
    "    category_tensor = categoryTensor(category)\n",
    "    input_line_tensor = inputTensor(line)\n",
    "    target_line_tensor = targetTensor(line)\n",
    "    return category_tensor, input_line_tensor, target_line_tensor"
   ]
  },
  {
   "cell_type": "code",
   "execution_count": 8,
   "metadata": {},
   "outputs": [],
   "source": [
    "# Turn a word(name) to a Tensor such that each letter is represented as a one-hot vector\n",
    "def one_hot_encoded_tensor(name):\n",
    "    letter_tensor = torch.zeros([len(name),1,n_letters])\n",
    "    indices = []\n",
    "    for i,c in enumerate(name):\n",
    "        idx = all_letters.find(c)\n",
    "        # is there a better way to create a one-hot encoded vector?\n",
    "        letter_tensor[i][0][idx] = 1\n",
    "    return letter_tensor"
   ]
  },
  {
   "cell_type": "code",
   "execution_count": 9,
   "metadata": {},
   "outputs": [],
   "source": [
    "criterion = nn.NLLLoss()\n",
    "\n",
    "learning_rate = 0.0005\n",
    "\n",
    "def train(rnn, category_tensor, input_line_tensor, target_line_tensor):\n",
    "    target_line_tensor.unsqueeze_(-1)\n",
    "    hidden = rnn.initHidden()\n",
    "    \n",
    "    rnn.zero_grad()\n",
    "\n",
    "    loss = 0\n",
    "\n",
    "    for i in range(input_line_tensor.size(0)):\n",
    "        output, hidden = rnn(category_tensor, input_line_tensor[i], hidden)\n",
    "        l = criterion(output, target_line_tensor[i])\n",
    "        loss += l\n",
    "\n",
    "    loss.backward()\n",
    "\n",
    "    # back prop\n",
    "    for p in rnn.parameters():\n",
    "        p.data.add_(-learning_rate, p.grad.data)\n",
    "\n",
    "    return output, loss.item() / input_line_tensor.size(0)"
   ]
  },
  {
   "cell_type": "code",
   "execution_count": 10,
   "metadata": {},
   "outputs": [
    {
     "data": {
      "image/png": "[encoded data removed]",
      "text/plain": [
       "<Figure size 432x288 with 1 Axes>"
      ]
     },
     "metadata": {
      "needs_background": "light"
     },
     "output_type": "display_data"
    }
   ],
   "source": [
    "rnn = GenRNN(n_letters,n_letters,128,n_categories)\n",
    "all_losses = []\n",
    "num_epochs = 100000\n",
    "total_loss = 0.\n",
    "plot_every = 20\n",
    "\n",
    "for i in range(num_epochs):\n",
    "    output,loss = train(rnn,*randomTrainingExample())\n",
    "    total_loss += loss\n",
    "    \n",
    "    if i % plot_every == 0:\n",
    "        all_losses.append(total_loss / plot_every)\n",
    "        total_loss = 0    \n",
    "    \n",
    "plt.plot(all_losses)\n",
    "plt.show()"
   ]
  },
  {
   "cell_type": "code",
   "execution_count": 14,
   "metadata": {},
   "outputs": [
    {
     "name": "stdout",
     "output_type": "stream",
     "text": [
      "Rovell\n",
      "Uakovev\n",
      "Shalav\n",
      "Gerter\n",
      "Eren\n",
      "Ronger\n",
      "Salla\n",
      "Pare\n",
      "Allan\n",
      "Chan\n",
      "Hang\n",
      "Iun\n"
     ]
    }
   ],
   "source": [
    "## Evaluating the network\n",
    "\n",
    "max_length = 20\n",
    "\n",
    "# Sample from a category and starting letter\n",
    "def sample(category, start_letter='A'):\n",
    "    with torch.no_grad():  # no need to track history in sampling\n",
    "        category_tensor = categoryTensor(category)\n",
    "        input = inputTensor(start_letter)\n",
    "        hidden = rnn.initHidden()\n",
    "\n",
    "        output_name = start_letter\n",
    "\n",
    "        for i in range(max_length):\n",
    "            output, hidden = rnn(category_tensor, input[0], hidden)\n",
    "            topv, topi = output.topk(1)\n",
    "            topi = topi[0][0]\n",
    "            if topi == n_letters - 1:\n",
    "                break\n",
    "            else:\n",
    "                letter = all_letters[topi]\n",
    "                output_name += letter\n",
    "            input = inputTensor(letter)\n",
    "\n",
    "        return output_name\n",
    "\n",
    "# Get multiple samples from one category and multiple starting letters\n",
    "def samples(category, start_letters='ABC'):\n",
    "    for start_letter in start_letters:\n",
    "        print(sample(category, start_letter))\n",
    "\n",
    "samples('Russian', 'RUS')\n",
    "\n",
    "samples('German', 'GER')\n",
    "\n",
    "samples('Spanish', 'SPA')\n",
    "\n",
    "samples('Chinese', 'CHI')"
   ]
  },
  {
   "cell_type": "code",
   "execution_count": 15,
   "metadata": {},
   "outputs": [
    {
     "data": {
      "text/plain": [
       "GenRNN(\n",
       "  (i2o): Linear(in_features=205, out_features=59, bias=True)\n",
       "  (i2h): Linear(in_features=205, out_features=128, bias=True)\n",
       "  (o2o): Linear(in_features=187, out_features=59, bias=True)\n",
       "  (dropout): Dropout(p=0.1, inplace=False)\n",
       "  (softmax): LogSoftmax()\n",
       ")"
      ]
     },
     "execution_count": 15,
     "metadata": {},
     "output_type": "execute_result"
    }
   ],
   "source": [
    "rnn"
   ]
  },
  {
   "cell_type": "code",
   "execution_count": null,
   "metadata": {},
   "outputs": [],
   "source": [
    "# Do the training\n",
    "calc_avg_interval = 1000\n",
    "categories_idx = {lang:i for i,lang in enumerate(all_categories)}\n",
    "lossFunc = nn.NLLLoss()\n",
    "n_hidden = 128\n",
    "rnn = CharRNN(n_letters, n_hidden, n_categories)\n",
    "optimizer = optim.SGD(rnn.parameters(),lr=0.001,momentum=0.9)\n",
    "epochs, loop_count = 5, 0\n",
    "losses, total_loss = [], 0\n",
    "train_predictions = []\n",
    "for _ in range(epochs):\n",
    "    for sample in training_data:\n",
    "        loop_count += 1\n",
    "        hidden_inp = rnn.initHidden()\n",
    "\n",
    "        optimizer.zero_grad()\n",
    "        sample_encoded = one_hot_encoded_tensor(sample[0])\n",
    "        for c in sample_encoded:\n",
    "            output,hidden_inp = rnn(c,hidden_inp)\n",
    "\n",
    "        max_i = torch.argmax(output)\n",
    "        train_predictions.append([sample[0],sample[1],all_categories[max_i.item()]])\n",
    "        loss = lossFunc(output,torch.tensor([categories_idx[sample[1]]]))\n",
    "        loss.backward()\n",
    "        optimizer.step()\n",
    "        \n",
    "        if loop_count%calc_avg_interval == 0:\n",
    "            losses.append(total_loss/calc_avg_interval)\n",
    "            total_loss = 0\n",
    "        else:\n",
    "            total_loss += loss\n",
    "plt.plot(losses)\n",
    "plt.show()"
   ]
  }
 ],
 "metadata": {
  "kernelspec": {
   "display_name": "Python 3",
   "language": "python",
   "name": "python3"
  },
  "language_info": {
   "codemirror_mode": {
    "name": "ipython",
    "version": 3
   },
   "file_extension": ".py",
   "mimetype": "text/x-python",
   "name": "python",
   "nbconvert_exporter": "python",
   "pygments_lexer": "ipython3",
   "version": "3.7.3"
  }
 },
 "nbformat": 4,
 "nbformat_minor": 2
}
